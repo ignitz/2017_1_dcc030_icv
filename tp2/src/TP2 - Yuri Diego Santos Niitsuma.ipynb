{
 "cells": [
  {
   "cell_type": "markdown",
   "metadata": {},
   "source": [
    "# DCC030 - Introdução a Computação Visual 2017/1\n",
    "## Trabalho Prático 2 - Realidade Aumentada\n",
    "\n",
    "> Yuri Diego Santos Niitsuma  \n",
    "> 2011039023\n"
   ]
  },
  {
   "cell_type": "code",
   "execution_count": 1,
   "metadata": {
    "collapsed": true
   },
   "outputs": [],
   "source": [
    "%matplotlib inline\n",
    "from matplotlib import pyplot as plt\n",
    "import cv2\n",
    "import numpy as np\n",
    "from scipy import linalg\n",
    "import random\n",
    "\n",
    "import glob\n"
   ]
  },
  {
   "cell_type": "markdown",
   "metadata": {},
   "source": [
    "### Calibração da Câmera"
   ]
  },
  {
   "cell_type": "markdown",
   "metadata": {},
   "source": [
    "Extrai arquivos PNG do vídeo para efetuar a calibração."
   ]
  },
  {
   "cell_type": "code",
   "execution_count": 2,
   "metadata": {},
   "outputs": [
    {
     "data": {
      "text/plain": [
       "0"
      ]
     },
     "execution_count": 2,
     "metadata": {},
     "output_type": "execute_result"
    }
   ],
   "source": [
    "# Extract images on png from entrada.avi\n",
    "import subprocess\n",
    "# Not tested on Ruin... Windows\n",
    "command = 'ffmpeg -i entrada.avi -r 1/1 export/samples%03d.png'\n",
    "subprocess.call(command.split(\" \"))\n"
   ]
  },
  {
   "cell_type": "markdown",
   "metadata": {},
   "source": [
    "Compilando e utilizando a linha de comando, dada pela especificação, gerou o arquivo intrinsic.yml.  \n",
    "`./calibration -w=6 -h=8 -s=0.03 -n=8 -V entrada.avi -o=intrinsic.yml -zt`\n",
    "```yaml\n",
    "%YAML:1.0\n",
    "calibration_time: \"Mon 29 May 2017 08:16:22 PM BRT\"\n",
    "image_width: 640\n",
    "image_height: 480\n",
    "board_width: 6\n",
    "board_height: 8\n",
    "square_size: 2.9999999329447746e-02\n",
    "aspectRatio: 1.\n",
    "flags: 10\n",
    "camera_matrix: !!opencv-matrix\n",
    "   rows: 3\n",
    "   cols: 3\n",
    "   dt: d\n",
    "   data: [ 5.3977141690908809e+02, 0., 3.1469387582156946e+02, 0.,\n",
    "       5.3977141690908809e+02, 2.3741691520113031e+02, 0., 0., 1. ]\n",
    "distortion_coefficients: !!opencv-matrix\n",
    "   rows: 5\n",
    "   cols: 1\n",
    "   dt: d\n",
    "   data: [ 7.9985631586879970e-03, 1.0138724673767394e+00, 0., 0.,\n",
    "       2.0195558368897495e-01 ]\n",
    "avg_reprojection_error: 2.5258684480484689e-01\n",
    "```\n",
    "Já aqui foi utilizando o comando  \n",
    "`./calibration -w=6 -h=8 -s=0.03 -o=intrinsic.yml -op -oe image_list.xml`  \n",
    "para extrair os parâmetros com as imagens extraídas em PNG pra caso não queira esperar o passar o vídeo inteiro.\n",
    "```yaml\n",
    "%YAML:1.0\n",
    "calibration_time: \"Tue 30 May 2017 12:54:22 AM BRT\"\n",
    "nframes: 16\n",
    "image_width: 640\n",
    "image_height: 480\n",
    "board_width: 6\n",
    "board_height: 8\n",
    "square_size: 2.9999999329447746e-02\n",
    "aspectRatio: 1.\n",
    "flags: 2\n",
    "camera_matrix: !!opencv-matrix\n",
    "   rows: 3\n",
    "   cols: 3\n",
    "   dt: d\n",
    "   data: [ 5.4597318911112427e+02, 0., 3.1049207851822064e+02, 0.,\n",
    "       5.4597318911112427e+02, 2.3646634453778435e+02, 0., 0., 1. ]\n",
    "distortion_coefficients: !!opencv-matrix\n",
    "   rows: 5\n",
    "   cols: 1\n",
    "   dt: d\n",
    "   data: [ 1.1709718058646137e-01, -8.1514252934026665e-01,\n",
    "       -1.1493789370794051e-03, -2.3061488061631398e-03,\n",
    "       3.3983745265406919e+00 ]\n",
    "avg_reprojection_error: 3.9067940013103392e-01\n",
    "\n",
    "................\n",
    "```"
   ]
  },
  {
   "cell_type": "code",
   "execution_count": 1,
   "metadata": {
    "collapsed": true
   },
   "outputs": [],
   "source": [
    "from objloader import *\n"
   ]
  },
  {
   "cell_type": "code",
   "execution_count": null,
   "metadata": {
    "collapsed": true
   },
   "outputs": [],
   "source": [
    "Compilando e utilizando a linha de comando, dada pela especificação, gerou o arquivo intrinsic.yml.\n",
    "./calibration -w=6 -h=8 -s=0.03 -n=8 -V entrada.avi -o=intrinsic.yml -zt\n",
    "%YAML:1.0\n",
    "calibration_time: \"Mon 29 May 2017 08:16:22 PM BRT\"\n",
    "image_width: 640\n",
    "image_height: 480\n",
    "board_width: 6\n",
    "board_height: 8\n",
    "square_size: 2.9999999329447746e-02\n",
    "aspectRatio: 1.\n",
    "flags: 10\n",
    "camera_matrix: !!opencv-matrix\n",
    "   rows: 3\n",
    "   cols: 3from OpenGL.GL import *\n",
    "from OpenGL.GLUT import *\n",
    "from OpenGL.GLU import *\n",
    "\n",
    "def initFun():\n",
    "    glClearColor(1.0,1.0,1.0,0.0)\n",
    "    glColor3f(0.0,0.0, 0.0)\n",
    "    glPointSize(4.0)\n",
    "    glMatrixMode(GL_PROJECTION)\n",
    "    glLoadIdentity()\n",
    "    gluOrtho2D(0.0,640.0,0.0,480.0)\n",
    "    \n",
    "\n",
    "def displayFun():\n",
    "    glClear(GL_COLOR_BUFFER_BIT)\n",
    "    glBegin(GL_POINTS)\n",
    "    glVertex2i(100,50)\n",
    "    glVertex2i(100,130)\n",
    "    glVertex2i(150,130)\n",
    "    glEnd()\n",
    "    glFlush()\n",
    "\n",
    "glutInit()\n",
    "glutInitWindowSize(640,480)\n",
    "glutCreateWindow(\"Drawdots\")\n",
    "glutInitDisplayMode(GLUT_SINGLE | GLUT_RGB)\n",
    "glutDisplayFunc(displayFun)\n",
    "initFun()\n",
    "glutMainLoop()"
   ]
  },
  {
   "cell_type": "code",
   "execution_count": null,
   "metadata": {
    "collapsed": true
   },
   "outputs": [],
   "source": [
    "from OpenGL.GL import *\n",
    "from OpenGL.GLUT import *\n",
    "from OpenGL.GLU import *\n",
    "\n",
    "import random\n",
    "\n",
    "def initFun():\n",
    "    glClearColor(1.0,1.0,1.0,0.0)\n",
    "    glColor3f(0.0,0.0, 0.0)\n",
    "    glPointSize(1.0)\n",
    "    glMatrixMode(GL_PROJECTION)\n",
    "    glLoadIdentity()\n",
    "    gluOrtho2D(0.0,640.0,0.0,480.0)\n",
    "    \n",
    "\n",
    "def displayFun():\n",
    "    glClear(GL_COLOR_BUFFER_BIT)\n",
    "    glBegin(GL_POINTS)\n",
    "\n",
    "    x=[0.0,640.0,320.0]\n",
    "    y=[0.0,0.0  ,480.0]\n",
    "\n",
    "    curx=0\n",
    "    cury=320\n",
    "    glVertex2f(curx,cury)\n",
    "    for i in range(0,500000):\n",
    "        idx=random.randint(0,2)\n",
    "        curx=(curx+x[idx])/2.0\n",
    "        cury=(cury+y[idx])/2.0\n",
    "        glVertex2f(curx,cury)\n",
    "    glEnd()\n",
    "    glFlush()\n",
    "\n",
    "if __name__ == '__main__':\n",
    "    glutInit()\n",
    "    glutInitWindowSize(640,480)\n",
    "    glutCreateWindow(\"Sierpinski\")\n",
    "    glutInitDisplayMode(GLUT_SINGLE | GLUT_RGB)\n",
    "    glutDisplayFunc(displayFun)\n",
    "    initFun()\n",
    "    glutMainLoop()"
   ]
  },
  {
   "cell_type": "code",
   "execution_count": null,
   "metadata": {
    "collapsed": true
   },
   "outputs": [],
   "source": [
    "from OpenGL.GL import *\n",
    "from OpenGL.GLUT import *\n",
    "from OpenGL.GLU import *\n",
    "\n",
    "import random\n",
    "\n",
    "def initFun():\n",
    "    glClearColor(1.0,1.0,1.0,0.0)\n",
    "    glColor3f(0.0,0.0, 0.0)\n",
    "    glMatrixMode(GL_PROJECTION)\n",
    "    glLoadIdentity()\n",
    "    gluOrtho2D(0.0,640.0,0.0,480.0)\n",
    "    \n",
    "def displayFun():\n",
    "    glClear(GL_COLOR_BUFFER_BIT)\n",
    "    for i in range(0,25):\n",
    "        gray = idx=random.randint(0,25)/25.0\n",
    "        glColor3f(gray,gray,gray)\n",
    "        glRecti(random.randint(0,640),random.randint(0,480),\n",
    "                random.randint(0,640),random.randint(0,480))\n",
    "    glFlush()\n",
    "\n",
    "if __name__ == '__main__':\n",
    "    glutInit()\n",
    "    glutInitWindowSize(640,480)\n",
    "    glutCreateWindow(\"DrawSquares\")\n",
    "    glutInitDisplayMode(GLUT_SINGLE | GLUT_RGB)\n",
    "    glutDisplayFunc(displayFun)\n",
    "    initFun()\n",
    "    glutMainLoop()"
   ]
  },
  {
   "cell_type": "code",
   "execution_count": null,
   "metadata": {
    "collapsed": true
   },
   "outputs": [],
   "source": []
  }
 ],
 "metadata": {
  "kernelspec": {
   "display_name": "jupyter2_Python_2",
   "language": "python",
   "name": "jupyter2_python_2"
  },
  "language_info": {
   "codemirror_mode": {
    "name": "ipython",
    "version": 2
   },
   "file_extension": ".py",
   "mimetype": "text/x-python",
   "name": "python",
   "nbconvert_exporter": "python",
   "pygments_lexer": "ipython2",
   "version": "2.7.12"
  }
 },
 "nbformat": 4,
 "nbformat_minor": 2
}
