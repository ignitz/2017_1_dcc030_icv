{
 "cells": [
  {
   "cell_type": "markdown",
   "metadata": {
    "nbpresent": {
     "id": "6abb2ed8-9653-41f1-950a-816979ab5723"
    }
   },
   "source": [
    "<h3>Inicialização</h3>"
   ]
  },
  {
   "cell_type": "code",
   "execution_count": null,
   "metadata": {
    "collapsed": true,
    "nbpresent": {
     "id": "ac2538cc-80b2-406b-9dc1-376e990339e6"
    }
   },
   "outputs": [],
   "source": [
    "%matplotlib inline\n",
    "import cv2\n",
    "import numpy as np\n",
    "from matplotlib import pyplot as plt"
   ]
  },
  {
   "cell_type": "markdown",
   "metadata": {},
   "source": [
    "<h3>Funções Auxiliares</h3>"
   ]
  },
  {
   "cell_type": "code",
   "execution_count": null,
   "metadata": {
    "collapsed": false
   },
   "outputs": [],
   "source": [
    "# image entropy\n",
    "def calcEntropy(img):\n",
    "    hist = cv2.calcHist([img],[0],None,[256],[0,256])\n",
    "    hist = hist.ravel()/hist.sum()\n",
    "    logs = np.log2(hist+0.00001)\n",
    "    entropy = -1 * (hist*logs).sum()\n",
    "\n",
    "    return entropy"
   ]
  },
  {
   "cell_type": "code",
   "execution_count": null,
   "metadata": {
    "collapsed": true
   },
   "outputs": [],
   "source": [
    "# huffman\n",
    "from heapq import heappush, heappop, heapify\n",
    "from collections import defaultdict\n",
    "\n",
    "def encode(symb2freq):\n",
    "    \"\"\"Huffman encode the given dict mapping symbols to weights\"\"\"\n",
    "    heap = [[wt, [sym, \"\"]] for sym, wt in symb2freq.items()]\n",
    "    heapify(heap)\n",
    "    while len(heap) > 1:\n",
    "        lo = heappop(heap)\n",
    "        hi = heappop(heap)\n",
    "        for pair in lo[1:]:\n",
    "            pair[1] = '0' + pair[1]\n",
    "        for pair in hi[1:]:\n",
    "            pair[1] = '1' + pair[1]\n",
    "        heappush(heap, [lo[0] + hi[0]] + lo[1:] + hi[1:])\n",
    "    return sorted(heappop(heap)[1:], key=lambda p: (len(p[-1]), p))"
   ]
  },
  {
   "cell_type": "markdown",
   "metadata": {},
   "source": [
    "<h3>Compressão Psicovisual</h3>"
   ]
  },
  {
   "cell_type": "code",
   "execution_count": null,
   "metadata": {
    "collapsed": false,
    "scrolled": true
   },
   "outputs": [],
   "source": [
    "# original\n",
    "img1 = cv2.imread('lena512.pgm',0)\n",
    "plt.title('Original Image')\n",
    "plt.imshow(img1, cmap = 'gray')\n",
    "plt.show()\n",
    "print 'entropy:', calcEntropy(img1)\n",
    "calcEntropy(img1)\n",
    "\n",
    "# 4 bits\n",
    "img2 = img1 & 0xf0\n",
    "plt.title('depth: 4 bits')\n",
    "plt.imshow(img2, cmap = 'gray')\n",
    "plt.show()\n",
    "print 'entropy:', calcEntropy(img2)\n",
    "calcEntropy(img2)\n",
    "\n",
    "# 3 bits\n",
    "img2 = img1 & 0xe0\n",
    "plt.title('depth: 3 bits')\n",
    "plt.imshow(img2, cmap = 'gray')\n",
    "plt.show()\n",
    "print 'entropy:', calcEntropy(img2)\n",
    "\n",
    "# 2 bits\n",
    "img2 = img1 & 0xc0\n",
    "plt.title('depth: 2 bits')\n",
    "plt.imshow(img2, cmap = 'gray')\n",
    "plt.show()\n",
    "print 'entropy:', calcEntropy(img2)\n",
    "calcEntropy(img2)\n",
    "\n",
    "# 1 bits\n",
    "img2 = img1 & 0x80\n",
    "plt.title('depth: 1 bits')\n",
    "plt.imshow(img2, cmap = 'gray')\n",
    "plt.show()\n",
    "print 'entropy:', calcEntropy(img2)"
   ]
  },
  {
   "cell_type": "markdown",
   "metadata": {
    "collapsed": true,
    "nbpresent": {
     "id": "50a1036e-470e-4c7c-850f-19eea4e44b48"
    }
   },
   "source": [
    "<h3>Entropia</h3>"
   ]
  },
  {
   "cell_type": "code",
   "execution_count": null,
   "metadata": {
    "collapsed": false
   },
   "outputs": [],
   "source": [
    "img1 = cv2.imread('lena512.pgm',0)\n",
    "img2 = cv2.imread('unequal.png',0)\n",
    "\n",
    "en1 = calcEntropy(img1)\n",
    "en2 = calcEntropy(img2)\n",
    "\n",
    "print (en1, en2)\n",
    "\n",
    "plt.subplot(121),plt.imshow(img1, cmap = 'gray', clim=(0, 255))\n",
    "plt.title('Lena'), plt.xticks([]), plt.yticks([])\n",
    "plt.subplot(122),plt.imshow(img2, cmap = 'gray', clim=(0, 255))\n",
    "plt.title('unequal'), plt.xticks([]), plt.yticks([])\n",
    "plt.show()"
   ]
  },
  {
   "cell_type": "markdown",
   "metadata": {},
   "source": [
    "<h3>Compressão por Redundância de Código - Huffman</h3>"
   ]
  },
  {
   "cell_type": "code",
   "execution_count": null,
   "metadata": {
    "collapsed": false,
    "scrolled": true
   },
   "outputs": [],
   "source": [
    "# load image\n",
    "#img1 = cv2.imread('unequal.png',0)\n",
    "img1 = cv2.imread('lena512.pgm',0)\n",
    "#img1 = cv2.imread('200_s.pgm',0)\n",
    "#img1 = cv2.imread('chessboard.jpg',0)\n",
    "\n",
    "height, width =  img1.shape\n",
    "entimg1 = calcEntropy(img1)\n",
    "\n",
    "# compute histogram\n",
    "hist = cv2.calcHist([img1],[0],None,[256],[0,256])\n",
    "hist = hist.ravel()/hist.sum()\n",
    "\n",
    "symb2freq = defaultdict(float)\n",
    "for i in range(0,256):\n",
    "    symb2freq[i] = hist[i]\n",
    "    \n",
    "#print symb2freq\n",
    "\n",
    "# enconde\n",
    "huff = encode(symb2freq)\n",
    "\n",
    "print \"Symbol\\tWeight\\t\\tHuffman Code\"\n",
    "for p in huff:\n",
    "    if (symb2freq[p[0]] > 0):\n",
    "        print \"%d\\t%f\\t%s\" % (p[0], symb2freq[p[0]], p[1])\n",
    "    \n",
    "nbits = 0\n",
    "for i in range(0,256):\n",
    "    nbits += len(huff[i][1]) * hist[huff[i][0]] * height * width\n",
    "    \n",
    "# bits per pixel\n",
    "bpp = nbits / (height * width)\n",
    "     \n",
    "print (\"\\nSummary:\")    \n",
    "print (\"Image entropy: %5.3f\" % entimg1)\n",
    "print (\"size: %d bytes\" % (nbits / 8))\n",
    "print (\"%5.3f bits/pixel\" % bpp)\n",
    "print (\"code efficiency: %5.3f\" % (entimg1/bpp))\n",
    "print (\"Compression ratio (without header): %5.3f\" % (8/bpp))\n",
    "\n",
    "plt.subplot(121),plt.imshow(img1, cmap = 'gray', clim=(0, 255))\n",
    "plt.title('input image'), plt.xticks([]), plt.yticks([])\n",
    "plt.show()"
   ]
  },
  {
   "cell_type": "code",
   "execution_count": null,
   "metadata": {
    "collapsed": false
   },
   "outputs": [],
   "source": [
    "# compression with a random image\n",
    "\n",
    "# generate the input random image\n",
    "size = 200, 200\n",
    "img1 = np.zeros(size, dtype=np.uint8)\n",
    "# min and max grayvalues\n",
    "minV = 0\n",
    "maxV = 2 # 2, 15, 63\n",
    "img1 = cv2.randu(img1, minV, maxV+1)\n",
    "\n",
    "height, width =  img1.shape\n",
    "entimg1 = calcEntropy(img1)\n",
    "\n",
    "# compute histogram\n",
    "hist = cv2.calcHist([img1],[0],None,[256],[0,256])\n",
    "hist = hist.ravel()/hist.sum()\n",
    "\n",
    "symb2freq = defaultdict(float)\n",
    "for i in range(0,256):\n",
    "    symb2freq[i] = hist[i]\n",
    "    \n",
    "# enconde\n",
    "huff = encode(symb2freq)    \n",
    "\n",
    "nbits = 0\n",
    "for i in range(0,256):\n",
    "    nbits += len(huff[i][1]) * hist[huff[i][0]] * height * width\n",
    "    \n",
    "# bits per pixel\n",
    "bpp = nbits / (height * width)\n",
    "     \n",
    "print (\"\\nSummary:\")    \n",
    "print (\"Image entropy: %5.3f\" % entimg1)\n",
    "print (\"size: %d bytes\" % (nbits / 8))\n",
    "print (\"%5.3f bits/pixel\" % bpp)\n",
    "print (\"code efficiency: %5.3f\" % (entimg1/bpp))\n",
    "print (\"Compression ratio (without header): %5.3f\" % (8/bpp))\n",
    "\n",
    "print \"\\nHuffman code\\nSymbol\\tWeight\\t\\tHuffman Code\"\n",
    "for p in huff:\n",
    "    if (symb2freq[p[0]] > 0):\n",
    "        print \"%d\\t%f\\t%s\" % (p[0], symb2freq[p[0]], p[1])\n",
    "        \n",
    "plt.imshow(img1, cmap = 'gray', clim=(minV, maxV))\n",
    "plt.title('input image'), plt.xticks([]), plt.yticks([])\n",
    "plt.show()"
   ]
  },
  {
   "cell_type": "code",
   "execution_count": null,
   "metadata": {
    "collapsed": true
   },
   "outputs": [],
   "source": []
  }
 ],
 "metadata": {
  "anaconda-cloud": {},
  "kernelspec": {
   "display_name": "Python 2",
   "language": "python",
   "name": "python2"
  },
  "language_info": {
   "codemirror_mode": {
    "name": "ipython",
    "version": 2
   },
   "file_extension": ".py",
   "mimetype": "text/x-python",
   "name": "python",
   "nbconvert_exporter": "python",
   "pygments_lexer": "ipython2",
   "version": "2.7.13"
  }
 },
 "nbformat": 4,
 "nbformat_minor": 0
}
