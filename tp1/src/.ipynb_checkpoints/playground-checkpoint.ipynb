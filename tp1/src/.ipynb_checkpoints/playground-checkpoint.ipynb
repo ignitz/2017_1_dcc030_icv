{
 "cells": [
  {
   "cell_type": "code",
   "execution_count": 19,
   "metadata": {
    "collapsed": false
   },
   "outputs": [
    {
     "name": "stdout",
     "output_type": "stream",
     "text": [
      "OpenCV Version : 3.1.0 \n"
     ]
    }
   ],
   "source": [
    "%matplotlib inline\n",
    "import cv2\n",
    "from matplotlib import pyplot as plt\n",
    "import numpy as np\n",
    "import time as t\n",
    "print \"OpenCV Version : %s \" % cv2.__version__\n",
    "\n",
    "import sys\n",
    "import os"
   ]
  },
  {
   "cell_type": "code",
   "execution_count": 54,
   "metadata": {
    "collapsed": false
   },
   "outputs": [],
   "source": [
    "src_path = \"./export/\"\n",
    "\n",
    "\n",
    "def test(img_path):\n",
    "\n",
    "    # Read image with opencv\n",
    "    img = cv2.imread(img_path)\n",
    "\n",
    "    # Convert to gray\n",
    "    img_gray = cv2.cvtColor(img, cv2.COLOR_BGR2GRAY)\n",
    "    ret, mask = cv2.threshold(img_gray, 180, 255, cv2.THRESH_BINARY)\n",
    "    image_final = cv2.bitwise_and(img_gray, img_gray, mask=mask)\n",
    "    ret, new_img = cv2.threshold(image_final, 180, 255, cv2.THRESH_BINARY_INV)\n",
    "    # for black text , cv.THRESH_BINARY_INV\n",
    "    \n",
    "    # Removing noise portions\n",
    "    \n",
    "    # to manipulate the orientation of dilution ,\n",
    "    # large x means horizonatally dilating  more,\n",
    "    # large y means vertically dilating more\n",
    "    kernel = cv2.getStructuringElement(cv2.MORPH_CROSS, (3, 3))  \n",
    "    # dilate , more the iteration more the dilation\n",
    "    dilated = cv2.dilate(new_img, kernel, iterations=1)\n",
    "    \n",
    "    image, contours, hierarchy = cv2.findContours(dilated,cv2.RETR_EXTERNAL,cv2.CHAIN_APPROX_NONE)  # cv3.x.x\n",
    "    \n",
    "    index = 1\n",
    "    for contour in contours:\n",
    "        # get rectangle bounding contour\n",
    "        [x, y, w, h] = cv2.boundingRect(contour)\n",
    "\n",
    "        # Don't plot small false positives that aren't text\n",
    "        if w < 35 and h < 35:\n",
    "            continue\n",
    "\n",
    "        # draw rectangle around contour on original image\n",
    "        cv2.rectangle(img, (x, y), (x + w, y + h), (255, 0, 255), 2)\n",
    "        \n",
    "        index = index + 1\n",
    "    \n",
    "            \n",
    "\n",
    "#     # Apply dilation and erosion to remove some noise\n",
    "#     kernel = np.ones((1, 1), np.uint8)\n",
    "#     img_temp = cv2.dilate(img, kernel, iterations=10)\n",
    "#     img_temp = cv2.erode(img_temp, kernel, iterations=1)\n",
    "#     # cv2.imwrite(src_path + \"thres.png\", img_temp)\n",
    "\n",
    "#     # cv2.imwrite(src_path + \"removed_noise.png\", img)\n",
    "\n",
    "#     # Apply threshold to get image with only black and white\n",
    "#     img_temp = cv2.adaptiveThreshold(img_temp, 255, cv2.ADAPTIVE_THRESH_GAUSSIAN_C, cv2.THRESH_BINARY, 11, 2)\n",
    "    \n",
    "#     edges = cv2.Canny(img,100,200)\n",
    "    \n",
    "#     # get contours\n",
    "#     image, contours, hierarchy = cv2.findContours(edges,cv2.RETR_EXTERNAL,cv2.CHAIN_APPROX_NONE)  # cv3.x.x\n",
    "    \n",
    "#     cv2.imwrite(src_path + \"img_temp.png\", img_temp)  \n",
    "    \n",
    "#     for contour in contours:\n",
    "#         #get rectangle\n",
    "#         [x, y, w, h] = cv2.boundingRect(contour)\n",
    "        \n",
    "#         if w < 35 and h < 35:\n",
    "#             continue\n",
    "        \n",
    "#         print('Creating fucking rectangle', x,y, x+w, y+h)\n",
    "#         cv2.rectangle(img, (x,y), (x+w,y+h), (255, 255, 0), 1)\n",
    "        \n",
    "    \n",
    "    # Write the image after apply opencv to do some ...\n",
    "    cv2.imwrite(src_path + \"thres.png\", img)\n",
    "\n",
    "test('page1.jpg')"
   ]
  },
  {
   "cell_type": "code",
   "execution_count": 38,
   "metadata": {
    "collapsed": false
   },
   "outputs": [
    {
     "data": {
      "image/png": "[encoded data removed]",
      "text/plain": [
       "<matplotlib.figure.Figure at 0x7f29e814d510>"
      ]
     },
     "metadata": {},
     "output_type": "display_data"
    },
    {
     "data": {
      "text/plain": [
       "True"
      ]
     },
     "execution_count": 38,
     "metadata": {},
     "output_type": "execute_result"
    }
   ],
   "source": [
    "img = cv2.imread('page1.jpg',0)\n",
    "edges = cv2.Canny(img,100,200)\n",
    "\n",
    "plt.subplot(121),plt.imshow(img,cmap = 'gray')\n",
    "plt.title('Original Image'), plt.xticks([]), plt.yticks([])\n",
    "plt.subplot(122),plt.imshow(edges,cmap = 'gray')\n",
    "plt.title('Edge Image'), plt.xticks([]), plt.yticks([])\n",
    "\n",
    "plt.show()\n",
    "\n",
    "cv2.imwrite('export/foo.jpg', edges)"
   ]
  },
  {
   "cell_type": "code",
   "execution_count": null,
   "metadata": {
    "collapsed": true
   },
   "outputs": [],
   "source": []
  }
 ],
 "metadata": {
  "kernelspec": {
   "display_name": "Python 2",
   "language": "python",
   "name": "python2"
  },
  "language_info": {
   "codemirror_mode": {
    "name": "ipython",
    "version": 2
   },
   "file_extension": ".py",
   "mimetype": "text/x-python",
   "name": "python",
   "nbconvert_exporter": "python",
   "pygments_lexer": "ipython2",
   "version": "2.7.13"
  }
 },
 "nbformat": 4,
 "nbformat_minor": 2
}
